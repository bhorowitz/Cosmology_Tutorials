{
 "cells": [
  {
   "cell_type": "code",
   "execution_count": 2,
   "metadata": {
    "collapsed": true
   },
   "outputs": [],
   "source": [
    "#Utility to generate \"realistic\" fake experimental data from a hook's law experiment\n",
    "import numpy as np\n",
    "import matplotlib.pyplot as plt\n",
    "import matplotlib.mlab as mlab\n",
    "import time\n",
    "from copy import *\n",
    "from math import *\n",
    "%matplotlib inline\n",
    "\n",
    "k = 8.25 #spring constant\n",
    "sigma_x = 0.04 #uncertainty in the x measurement\n",
    "x_0 = 0.5 #staring position\n",
    "v_0 = 0.0 #starting velocity\n",
    "b = 4. #damping\n",
    "m = 10. #mass"
   ]
  },
  {
   "cell_type": "code",
   "execution_count": 3,
   "metadata": {
    "collapsed": true
   },
   "outputs": [],
   "source": [
    "def true_motion(t,x_0,v_0,k,b,m):\n",
    "    w0 = sqrt(k/m)\n",
    "    b0 = b/m\n",
    "    \n",
    "    if b0**2.-4.*w0**2.>0:\n",
    "        raise NameError(\"Not underdamped system! \"+ str(b0**2.-4.*w0**2.) )\n",
    "        \n",
    "    gamma = 1/2. *sqrt(4*w0**2. - b0**2.)\n",
    "    \n",
    "    A = x_0\n",
    "    B = v_0 + 1/2.*gamma*x_0\n",
    "    return (A*cos(t*gamma)+B*sin(t*gamma))*exp(-b0*t/m)\n",
    "    \n"
   ]
  },
  {
   "cell_type": "code",
   "execution_count": 4,
   "metadata": {
    "collapsed": false
   },
   "outputs": [
    {
     "data": {
      "text/plain": [
       "0.022643176578224296"
      ]
     },
     "execution_count": 4,
     "metadata": {},
     "output_type": "execute_result"
    }
   ],
   "source": [
    "(np.random.rand()-0.5)*2*sigma_x"
   ]
  },
  {
   "cell_type": "code",
   "execution_count": 5,
   "metadata": {
    "collapsed": false
   },
   "outputs": [],
   "source": [
    "t_range = np.linspace(0,20,100)\n",
    "x_range = np.array([true_motion(t,x_0,v_0,k,b,m)+(np.random.rand()-0.5)*2*sigma_x for t in t_range])"
   ]
  },
  {
   "cell_type": "code",
   "execution_count": 6,
   "metadata": {
    "collapsed": false
   },
   "outputs": [
    {
     "data": {
      "text/plain": [
       "[<matplotlib.lines.Line2D at 0x10ff02e50>]"
      ]
     },
     "execution_count": 6,
     "metadata": {},
     "output_type": "execute_result"
    },
    {
     "data": {
      "image/png": "[encoded data removed]",
      "text/plain": [
       "<matplotlib.figure.Figure at 0x10dfefb90>"
      ]
     },
     "metadata": {},
     "output_type": "display_data"
    }
   ],
   "source": [
    "plt.plot(t_range,x_range,\"r.\")"
   ]
  },
  {
   "cell_type": "code",
   "execution_count": 7,
   "metadata": {
    "collapsed": false
   },
   "outputs": [],
   "source": [
    "d_out = np.zeros((100,2))\n",
    "d_out[:,0]=t_range\n",
    "d_out[:,1]=x_range\n",
    "np.savetxt(\"hooks_law.txt\",d_out)"
   ]
  },
  {
   "cell_type": "code",
   "execution_count": 8,
   "metadata": {
    "collapsed": true
   },
   "outputs": [],
   "source": [
    "def chi_squared(data,parameter_guess):\n",
    "    x_0,v_0,k,b,m = parameter_guess\n",
    "    t_array = data[:,0]\n",
    "    x_experiment = data[:,1]\n",
    "    x_guess = np.array([true_motion(t,x_0,v_0,k,b,m) for t in t_array])\n",
    "    \n",
    "    chi_squared = np.power((x_guess - x_experiment),2)\n",
    "    \n",
    "    return np.sum(chi_squared)\n",
    "    "
   ]
  },
  {
   "cell_type": "code",
   "execution_count": 9,
   "metadata": {
    "collapsed": false
   },
   "outputs": [
    {
     "data": {
      "text/plain": [
       "0.054712124049601775"
      ]
     },
     "execution_count": 9,
     "metadata": {},
     "output_type": "execute_result"
    }
   ],
   "source": [
    "chi_squared(d_out,[x_0,v_0,k,b,m])"
   ]
  },
  {
   "cell_type": "code",
   "execution_count": 84,
   "metadata": {
    "collapsed": false,
    "scrolled": false
   },
   "outputs": [
    {
     "name": "stdout",
     "output_type": "stream",
     "text": [
      "[0.02028628469566196, 0.0, 0.9462115671034821, 0.15778594189402695, 10.0] 7.957091204\n",
      "[0.8434644156065296, 0.0, 8.526789379607164, 4.765948459734023, 10.0] 2.88739111557\n",
      "[0.6057603159118745, 0.0, 7.96885680848752, 3.4341782624425186, 10.0] 0.687575824759\n",
      "[0.41931450923240143, 0.0, 8.628101738592086, 4.004305178101754, 10.0] 0.467200350665\n",
      "[0.4243199341574141, 0.0, 7.802889947791205, 0.804250647937067, 10.0] 0.446968258771\n",
      "[0.45911316148161163, 0.0, 7.902697090223207, 3.8105139285916345, 10.0] 0.296618340581\n",
      "[0.4551461110445568, 0.0, 7.932331499827793, 3.3219856964223156, 10.0] 0.176342920953\n",
      "[0.5052037522420736, 0.0, 8.478470781089097, 4.317694447264589, 10.0] 0.0933994477231\n",
      "true value\n",
      "0.5 0.0 8.25 4.0 10.0\n"
     ]
    },
    {
     "data": {
      "text/plain": [
       "[<matplotlib.lines.Line2D at 0x111a02790>]"
      ]
     },
     "execution_count": 84,
     "metadata": {},
     "output_type": "execute_result"
    },
    {
     "data": {
      "image/png": "[encoded data removed]",
      "text/plain": [
       "<matplotlib.figure.Figure at 0x111a02110>"
      ]
     },
     "metadata": {},
     "output_type": "display_data"
    }
   ],
   "source": [
    "chi_old = 1000.0\n",
    "for i in range(0,1000):\n",
    "    x_g = np.random.rand()*1.0\n",
    "    v_0 = 0.0\n",
    "    k_g = np.random.rand()*10.0\n",
    "    b_g = np.random.rand()*5.0\n",
    "    m_g = 10.0\n",
    "    try:\n",
    "        chi_new = chi_squared(d_out,[x_g,v_0,k_g,b_g,m_g])\n",
    "    except: \n",
    "        next\n",
    "    if chi_new <chi_old:\n",
    "        chi_old = chi_new\n",
    "        best_guess = [x_g,v_0,k_g,b_g,m_g]\n",
    "        print best_guess, chi_new\n",
    "print \"true value\"\n",
    "print x_0,v_0,k,b,m\n",
    "plt.plot(t_range,x_range,\"r.\")\n",
    "plt.plot(t_range,[true_motion(t,best_guess[0],best_guess[1],best_guess[2],best_guess[3],best_guess[4]) for t in t_range])"
   ]
  },
  {
   "cell_type": "code",
   "execution_count": 83,
   "metadata": {
    "collapsed": false
   },
   "outputs": [
    {
     "name": "stdout",
     "output_type": "stream",
     "text": [
      "[0.4681438387515242, 0.0, 8.11616464144549, 3.062539124435336, 10.0] 0.0193357261174\n",
      "true value\n",
      "0.5 0.0 8.25 4.0 10.0\n"
     ]
    },
    {
     "data": {
      "text/plain": [
       "[<matplotlib.lines.Line2D at 0x11176efd0>]"
      ]
     },
     "execution_count": 83,
     "metadata": {},
     "output_type": "execute_result"
    },
    {
     "data": {
      "image/png": "[encoded data removed]",
      "text/plain": [
       "<matplotlib.figure.Figure at 0x11212fcd0>"
      ]
     },
     "metadata": {},
     "output_type": "display_data"
    }
   ],
   "source": [
    "chi_old = 1000.0\n",
    "\n",
    "#starting point\n",
    "\n",
    "x_g = np.random.rand()*1.0\n",
    "v_0 = 0.0\n",
    "k_g = np.random.rand()*10.0\n",
    "b_g = np.random.rand()*5.0\n",
    "m_g = 10.0\n",
    "best_guess = [x_g,v_0,k_g,b_g,m_g]\n",
    "chi_old = chi_squared(d_out,[x_g,v_0,k_g,b_g,m_g])\n",
    "points_array = []\n",
    "for i in range(0,1000):\n",
    "    d = sqrt(chi_old)/5. #There is an art/science to choosing this value which we will explore later...\n",
    "    x_g,v_0,k_g,b_g,m_g = best_guess\n",
    "    x_g_n = x_g +(np.random.rand()-0.5)*d\n",
    "    k_g_n = k_g +(np.random.rand()-0.5)*d\n",
    "    b_g_n = b_g +(np.random.rand()-0.5)*d\n",
    "    try:\n",
    "        chi_new = chi_squared(d_out,[x_g_n,v_0,k_g_n,b_g_n,m_g])/4\n",
    "    except: \n",
    "        next\n",
    "    if chi_new <chi_old:\n",
    "        chi_old = chi_new\n",
    "        best_guess = [x_g_n,v_0,k_g_n,b_g_n,m_g]\n",
    "        points_array.append([x_g_n,v_0,k_g_n,b_g_n,m_g])\n",
    "\n",
    "print  best_guess , chi_new        \n",
    "print \"true value\"\n",
    "print x_0,v_0,k,b,m\n",
    "plt.plot(t_range,x_range,\"r.\")\n",
    "plt.plot(t_range,[true_motion(t,best_guess[0],best_guess[1],best_guess[2],best_guess[3],best_guess[4]) for t in t_range])"
   ]
  },
  {
   "cell_type": "code",
   "execution_count": null,
   "metadata": {
    "collapsed": true
   },
   "outputs": [],
   "source": []
  }
 ],
 "metadata": {
  "kernelspec": {
   "display_name": "Python 2",
   "language": "python",
   "name": "python2"
  },
  "language_info": {
   "codemirror_mode": {
    "name": "ipython",
    "version": 2
   },
   "file_extension": ".py",
   "mimetype": "text/x-python",
   "name": "python",
   "nbconvert_exporter": "python",
   "pygments_lexer": "ipython2",
   "version": "2.7.5"
  }
 },
 "nbformat": 4,
 "nbformat_minor": 2
}
